{
 "cells": [
  {
   "cell_type": "markdown",
   "metadata": {},
   "source": [
    "# **Monte Carlo Triangle Inequality**\n",
    "If we split a straight stick into 3 segments, what is the probability that the three segments can NOT form a triangle? \n",
    "\n",
    "Firstly, lets start with two sticks a and b. If we were to add a third stick c, what range of lengths can it be such that it will complete the triangle? \n",
    "\n",
    "\n",
    "If the third stick is the longest (or one of the two longest) of the three, then the upper limit of its length is the sum of the two shorter stick. (this is the case that the two shorter sticks form a 180 degree angle with one another. \n",
    "\n",
    "\n",
    "On the opposite extreme, if the third stick is the shortest, then its lower limit would have to the difference of the other two sticks (which is the case where the other two sticks form a 0-degree angle with one-another. \n",
    "\n",
    "\n",
    "\n",
    "\n",
    "\n",
    "If all three are equal, then we already know that they can form an equilateral triangle;\n",
    "\n",
    "\n",
    "\n",
    "\n",
    "From these facts, we can derive the Triangle Inequality, which states that any two sides of a triangle has to add up to be equal or greater than the third side. This greatly simplifies our problem, because we now know, that when we split the stick, the longest  of the segments would have to be less than the sum of the other two segments. But what is the value range that such the max segment can take? \n",
    "\n",
    "If the long segment is ~1/3 the total length, we know that each segment has to be less than the sum of the other two, if it were any shorter, it cannot be the longest, because the other two segments would make up >2/3 the total length, so the shortest would have to be >1/3.  Thus, the longest segment has to be >1/3 for it to still be called the \"maximum-length\" segment. This is the lower bound. \n",
    "\n",
    "If we split the stick such that the max segment is half the total length, then we know the sum of the other two segments must equal one half has well. If this longest segment was any longer, then the other two segments cannot sum up to equal it.  This will be our upper bound. This also implies that any two segments cannot be longer than 1/2 the total length, else, their sum would be less than the third side. \n",
    "\n",
    "Thus we can conclude that  a 3-way split can form a triangle if the longest segment is between 1/3 and 1/2  of the total length. \n",
    "\n",
    "We can formulate this using the Monte Carlo method by splitting 1-meter long stick into three pieces of random length. If the longest of the three is between 33cm-50cm, and the two shortest ones are greater than half the total length, then it can form a triangle. The number of times that we form a triangle out of the number of total trials will give us an estimate of the probability of forming a triangle.  And its complement will give us the answer to the question. \n",
    "\n",
    "To achieve 3 digits of precision, we will run 10,000 trials ."
   ]
  },
  {
   "cell_type": "code",
   "execution_count": 757,
   "metadata": {},
   "outputs": [
    {
     "name": "stdout",
     "output_type": "stream",
     "text": [
      "Probability of forming a triangle: 0.272\n",
      "Probability of NOT forming a Triangle: 0.728\n"
     ]
    }
   ],
   "source": [
    "import random\n",
    "\n",
    "def monteCarloTriangle(totL,trials):\n",
    "    triForm= 0\n",
    "    cuts= [0.0,0.0]\n",
    "    segs= []\n",
    "    for i in range(trials):\n",
    "        cuts[0]= random.uniform(0,totL)\n",
    "        cuts[1]= random.uniform(0,totL)\n",
    "\n",
    "        leftSegment= min(cuts)\n",
    "        rightSegment= totL - max(cuts)\n",
    "        midSegment= leftSegment - rightSegment\n",
    "\n",
    "        segs.append(leftSegment)\n",
    "        segs.append(rightSegment)\n",
    "        segs.append(midSegment)\n",
    "\n",
    "        longSide= max(leftSegment, midSegment, rightSegment)\n",
    "        minSide= min(leftSegment, midSegment, rightSegment)\n",
    "        medSide= totL - longSide - minSide\n",
    "\n",
    "        if (totL/3 < longSide < totL/2):\n",
    "            if(minSide + medSide > totL/2):\n",
    "                if (minSide + medSide > longSide):\n",
    "                    triForm+=1\n",
    "    probability= triForm/trials\n",
    "    error = 1-probability\n",
    "    return probability, error\n",
    "\n",
    "rez= monteCarloTriangle(1, 10000)\n",
    "print(\"Probability of forming a triangle: \" + str(round(rez[0],3)))\n",
    "print(\"Probability of NOT forming a Triangle: \" + str(round(rez[1],3)))\n",
    "\n",
    "\n"
   ]
  },
  {
   "cell_type": "markdown",
   "metadata": {},
   "source": [
    "## Results\n",
    "After running 10,000 trials several times I came to this conclusion:\n",
    "\n",
    "Probability of forming a triangle: 0.276 <br>\n",
    "Probability of NOT forming a Triangle: 0.724"
   ]
  },
  {
   "cell_type": "markdown",
   "metadata": {},
   "source": [
    "### Code: https://github.com/Koogleblitz/The-Monte-Carlo-Method"
   ]
  }
 ],
 "metadata": {
  "kernelspec": {
   "display_name": "Python 3.9.7 ('base')",
   "language": "python",
   "name": "python3"
  },
  "language_info": {
   "codemirror_mode": {
    "name": "ipython",
    "version": 3
   },
   "file_extension": ".py",
   "mimetype": "text/x-python",
   "name": "python",
   "nbconvert_exporter": "python",
   "pygments_lexer": "ipython3",
   "version": "3.9.7"
  },
  "orig_nbformat": 4,
  "vscode": {
   "interpreter": {
    "hash": "d452713d07931529b46a6a4adbae9c48126cf3f4bc3a50be39ac3715dec6caaa"
   }
  }
 },
 "nbformat": 4,
 "nbformat_minor": 2
}
